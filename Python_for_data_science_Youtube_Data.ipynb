{
  "cells": [
    {
      "cell_type": "markdown",
      "metadata": {
        "id": "view-in-github",
        "colab_type": "text"
      },
      "source": [
        "<a href=\"https://colab.research.google.com/github/PulakAgarwal/Python-Visualization-for-Data-Science-Introduction-2020/blob/main/Python_for_data_science_Youtube_Data.ipynb\" target=\"_parent\"><img src=\"https://colab.research.google.com/assets/colab-badge.svg\" alt=\"Open In Colab\"/></a>"
      ]
    },
    {
      "cell_type": "markdown",
      "metadata": {
        "id": "BK3Grm0BUrh1"
      },
      "source": [
        "Python for Data Science\n",
        "\n",
        "    During this workshop we will give an intro to: \n",
        "    Reading in a dataset using Pandas\n",
        "    Data manupulation using Pandas\n",
        "    Inroduction/conversion to numpy\n",
        "    simple visualizations. \n",
        "\n",
        "We will be using Google Collab for this. This notebook has some blank cells that we will be filling in and working through over the course of the workshop."
      ]
    },
    {
      "cell_type": "markdown",
      "metadata": {
        "id": "kldYre5iUrh7"
      },
      "source": [
        "Data source: https://www.kaggle.com/datasnaek/youtube-new?select=CAvideos.csv"
      ]
    },
    {
      "cell_type": "code",
      "source": [
        "# in case your Collab environment or even local environment returns a ModuleNotFoundError, \n",
        "# run this cell to install all the libraries we will use today.\n",
        "\n",
        "!pip install numpy pandas seaborn"
      ],
      "metadata": {
        "id": "ALLoA3Aloh0a"
      },
      "execution_count": null,
      "outputs": []
    },
    {
      "cell_type": "code",
      "execution_count": null,
      "metadata": {
        "id": "lpcxprzhUrh-"
      },
      "outputs": [],
      "source": [
        "import numpy as np\n",
        "import pandas as pd\n",
        "import seaborn as sns\n",
        "import matplotlib.pyplot as plt\n",
        "\n",
        "print (sns.__version__)\n",
        "print (pd.__version__)\n",
        "print (np.version.version)"
      ]
    },
    {
      "cell_type": "markdown",
      "metadata": {
        "id": "E1q75AQlUriF"
      },
      "source": [
        "Numpy and Pandas are the premiere data manipulation packages for python.\n",
        "The purpose of Pandas is because it brings in the functionality of a dataframe.\n",
        "This gives us a fast way to work with relational, or labeled data.\n",
        "Let us look at how the basis of pandas works.\n",
        "\n",
        "        Note: even though I will be mainly using Pandas for this exercise\n",
        "        Pandas is actually built on top of Numpy, meaning a vast majority of \n",
        "        the functions we will be covering, can be used just as easily in numpy.\n",
        "        \n",
        "To explain the differences between the two:\n",
        "            \n",
        "        Numpy is used for creating Arrays - These arrays can be any number of dimensions, but \n",
        "        they do not have column or index labels - Numpy is essentially a more efficient version\n",
        "        of the List in Python.\n",
        "        Pandas is used for dataframes - This is more organized data that has column names AND an\n",
        "        index.  It is Numpy with a more mandatory structure."
      ]
    },
    {
      "cell_type": "markdown",
      "metadata": {
        "id": "7zJIp_WUUriG"
      },
      "source": [
        "## Import data"
      ]
    },
    {
      "cell_type": "code",
      "execution_count": null,
      "metadata": {
        "id": "RTIArWqMUrkE"
      },
      "outputs": [],
      "source": [
        "# the first way to upload file is by using files function of Google Colab and upload it from your device\n",
        "\n",
        "from google.colab import files\n",
        "uploaded = files.upload()\n",
        "fp = open(\"Youtube_CAvideos_clean.csv\",\"r\") \n"
      ]
    },
    {
      "cell_type": "code",
      "execution_count": null,
      "metadata": {
        "id": "CBZW0v7Vujnc"
      },
      "outputs": [],
      "source": [
        "\n",
        "#as we can see below, we have a dataframe, we have labeled columns, and numbered rows.  \n",
        "#This will allow us to quickly isolate rows or columns and perform operations on them quickly "
      ]
    },
    {
      "cell_type": "code",
      "execution_count": null,
      "metadata": {
        "id": "21_LI_RNUrkN"
      },
      "outputs": [],
      "source": [
        "# seeing more structural info\n"
      ]
    },
    {
      "cell_type": "markdown",
      "metadata": {
        "id": "qxpi0o_VUrkY"
      },
      "source": [
        "## Clean / Format the data"
      ]
    },
    {
      "cell_type": "markdown",
      "metadata": {
        "id": "lFdkIcm8Urkc"
      },
      "source": [
        "### Shrink down the data with selected columns"
      ]
    },
    {
      "cell_type": "code",
      "execution_count": null,
      "metadata": {
        "id": "Vtt1ZkCPUrke"
      },
      "outputs": [],
      "source": [
        "# trim off columns we are not going to use for this workshop\n",
        "df_simp = df[[\"channel_title\", \"category_id\", \"views\", \"likes\", \"dislikes\", \"comment_count\",\"comments_disabled\",\"ratings_disabled\"]]\n",
        "\n",
        "# we want to convert category to a string instead of a number\n",
        "\n",
        "print (df_simp.dtypes)"
      ]
    },
    {
      "cell_type": "markdown",
      "metadata": {
        "id": "W3OdURuKUrke"
      },
      "source": [
        "### Check values in columns and clean the messy data"
      ]
    },
    {
      "cell_type": "markdown",
      "metadata": {
        "id": "MEPsTFBpUrke"
      },
      "source": [
        "The first manipulation we would want to make is only select columns we may want to work with, and ignore columns we do not. "
      ]
    },
    {
      "cell_type": "markdown",
      "metadata": {
        "id": "IVKNSmePUrkj"
      },
      "source": [
        "### Sort the data by categories"
      ]
    },
    {
      "cell_type": "code",
      "execution_count": null,
      "metadata": {
        "id": "BvLPpBv5Urkk"
      },
      "outputs": [],
      "source": [
        "df_sort = df_simp.sort_values([\"views\", \"likes\", \"dislikes\", \"comment_count\"], ascending=[False, False,False,False])\n",
        "df_sort\n",
        "#To make our data is more viewable, we will use the function dataframe.sort_values\n",
        "#With this, we can first sort by the numbers of views, then sort by likes\n",
        "#To sort from the greatest to the least, by setting ascending = to false!\n",
        "\n",
        "#look how readable our results are!"
      ]
    },
    {
      "cell_type": "markdown",
      "metadata": {
        "id": "umAYtwemUrkl"
      },
      "source": [
        "## Basic Statistical Analysis "
      ]
    },
    {
      "cell_type": "markdown",
      "metadata": {
        "id": "SisHHDsEUrkl"
      },
      "source": [
        "Overview of statistics of the whole dataset."
      ]
    },
    {
      "cell_type": "code",
      "execution_count": null,
      "metadata": {
        "id": "oUGPFsWNUrkm"
      },
      "outputs": [],
      "source": [
        "#Finally, what if before all colorful graphs, we want to know the statistical aspects about our data?\n",
        "#Pandas again, comes to the rescue and makes it fairly simple to collect numbers\n",
        "\n",
        "\n",
        "#As you can see, this aggregates all of our car data, and tells us about it in general.\n",
        "#What if we want to drilldown by a specific category?  "
      ]
    },
    {
      "cell_type": "markdown",
      "metadata": {
        "id": "R2ov5_1CUrkp"
      },
      "source": [
        "Compare the overall statistical distribution to a subset of data."
      ]
    },
    {
      "cell_type": "code",
      "execution_count": null,
      "metadata": {
        "id": "YfX_zzxGUrkq"
      },
      "outputs": [],
      "source": [
        "#let's review the categories and see what we got here.\n",
        "categories = df_sort.category_id.unique()\n",
        "print (categories)\n",
        "    \n",
        "a =df_sort[\"category_id\"].value_counts()\n",
        "print (a)"
      ]
    },
    {
      "cell_type": "markdown",
      "metadata": {
        "id": "tZyASnOmUrkr"
      },
      "source": [
        "Create a subcategory of the dataset."
      ]
    },
    {
      "cell_type": "code",
      "execution_count": null,
      "metadata": {
        "id": "M8_qf5aFUrks"
      },
      "outputs": [],
      "source": [
        "#let's select a subcategory to focus on\n",
        "\n",
        "\n",
        "# Or, we can create a sub-dataset with a few categories to work on.\n",
        "cat_list=[\"24\",\"28\",\"17\",\"10\"]\n",
        "cats =df_sort.loc[df_sort[\"category_id\"].isin(cat_list)]\n",
        "# print (cats)"
      ]
    },
    {
      "cell_type": "code",
      "execution_count": null,
      "metadata": {
        "id": "sMzpmmnyUrks"
      },
      "outputs": [],
      "source": [
        "#Lets look at Category 24 statistics to further analyze their data\n",
        "cat_24_stats= cat_24.describe()\n",
        "cat_24_stats\n",
        "#This is cool and all, but I need something to compare it to!"
      ]
    },
    {
      "cell_type": "code",
      "execution_count": null,
      "metadata": {
        "id": "f7lj6KahUrkt"
      },
      "outputs": [],
      "source": [
        "#So say we want to further analyze the data by figuring out how cat_24 compares to all categories\n",
        "#In Pandas, if 2 dataframes or columns match, pandas will automatically just subtract each one in order\n",
        "\n",
        "stat_differential = cat_24_stats - all_stats\n",
        "\n",
        "#Since the means will tell us the most, let us select the mean column and print it!\n",
        "stat_differential\n",
        "print(stat_differential.loc[\"mean\"])"
      ]
    },
    {
      "cell_type": "markdown",
      "metadata": {
        "id": "gpU-un0qUrkl"
      },
      "source": [
        "Now we are going to move into Visualizing and Analyzing our data!\n",
        "\n",
        "    for this, we will be using a relatively new data vizualization package called Seaborn\n",
        "    If you are familiar with Matplotlib, it is similar and based on Matplotlib. \n",
        "    The difference is something that takes 10 lines in matplotlib, can be done in 1 with seaborn, \n",
        "    making it ideal for super quick and easy visualizations. In fact, it actually inherits a lot of \n",
        "    what it does from matplotlib. For example, in order to change the title, we will be calling a \n",
        "    matplotlib function, not a seaborn one!  \n",
        "    \n",
        "    To make it even better, its built to work with Pandas!\n",
        "    Lets look at the example below to see how we can make a plot with a line of best fit\n",
        "     \n",
        "\n",
        "     "
      ]
    },
    {
      "cell_type": "markdown",
      "metadata": {
        "id": "I05NlXjgUrkv"
      },
      "source": [
        "## Visualization"
      ]
    },
    {
      "cell_type": "code",
      "execution_count": null,
      "metadata": {
        "id": "Ky37tzRpUrkz"
      },
      "outputs": [],
      "source": [
        "#give an outline or plan for viz types\n",
        "for col in cats:\n",
        "    print (col)"
      ]
    },
    {
      "cell_type": "code",
      "execution_count": null,
      "metadata": {
        "id": "h2Ibmy7nUrk0"
      },
      "outputs": [],
      "source": [
        "#so we renamed seaborn as sns.  Now let is call sns.lmplot, which stands for linear model plot\n",
        "#It will include both our X and Y scatterplot, and automatically \n",
        "\n",
        "\n",
        "\n",
        "\n",
        "\n",
        "#As you can see, we created a beautiful viz with only 1 line of code, and needed   \n",
        "# one more to add a title!  That is powerful."
      ]
    },
    {
      "cell_type": "code",
      "execution_count": null,
      "metadata": {
        "id": "yfWOg8gRUrk9"
      },
      "outputs": [],
      "source": [
        "#Seaborn's custemization features\n",
        "#Let's see how it can define colors of the variables and resize the charts.\n",
        "\n",
        "g = sns.lmplot(x=\"views\", y=\"dislikes\", data=cats, legend=\"full\", hue=\"comments_disabled\", height=6, aspect=1.3, )  \n",
        "plt.title('Youtube Videos Views vs. Dislikes')\n",
        "\n",
        "#In addition, lets learn how to save this graph!\n"
      ]
    },
    {
      "cell_type": "code",
      "execution_count": null,
      "metadata": {
        "id": "Eyrq8dj7UrlL"
      },
      "outputs": [],
      "source": [
        "# On top of that, Seaborn can also assign markers and apply new palette to the charts.\n",
        "\n",
        "sns.lmplot(x=\"likes\", y=\"dislikes\", hue=\"comments_disabled\", data=cats, markers=[\"x\", \"+\"], palette=\"Set2\", height=6, aspect=1.3)"
      ]
    },
    {
      "cell_type": "markdown",
      "metadata": {
        "id": "l-s2VxvrUrlO"
      },
      "source": [
        "### Categorical scatterplots\n",
        "\n",
        "* `catplot()`\n",
        "* `stripplot()`\n",
        "* `swarmplot()`"
      ]
    },
    {
      "cell_type": "code",
      "execution_count": null,
      "metadata": {
        "id": "R0e-gM_kUrlV"
      },
      "outputs": [],
      "source": [
        "cats.info()"
      ]
    },
    {
      "cell_type": "code",
      "execution_count": null,
      "metadata": {
        "id": "sHTfV-YHUrlV",
        "scrolled": true
      },
      "outputs": [],
      "source": [
        "#The default “kind” in catplot() is stripplot().\n",
        "#It is to adjust the positions of points on the categorical axis with a small amount of random “jitter”:\n",
        "\n",
        "\n",
        "#If you wish to remove the jitter effect, just set jitter function as False.\n",
        "sns.catplot(x=\"category_id\", y=\"views\",jitter=False, data=cats, height=4, aspect=2) # Removes random X-axis noise"
      ]
    },
    {
      "cell_type": "markdown",
      "metadata": {
        "id": "nTu4NYyZUrlX"
      },
      "source": [
        "The second approach, the swarmplot(), uses algorithm to avoid data points from overlapping each other.\n",
        "\n",
        "For this approach you cannot have too large of a dataset tho, as there may not be enough space to show \n",
        "all of them.\n",
        "\n",
        "Below we create a subset of of cats dataset to demonstrate."
      ]
    },
    {
      "cell_type": "code",
      "execution_count": null,
      "metadata": {
        "id": "cg1j8ZigUrlX"
      },
      "outputs": [],
      "source": [
        "df_swarm=cats.head(1000)"
      ]
    },
    {
      "cell_type": "code",
      "execution_count": null,
      "metadata": {
        "id": "3e77mGivUrlY"
      },
      "outputs": [],
      "source": [
        "sns.swarmplot(x=\"category_id\", y=\"views\", data=df_swarm, size=8)\n",
        "\n",
        "sns.catplot(x=\"category_id\", y=\"views\", kind=\"swarm\",hue=\"comments_disabled\", data=df_swarm, height=4, aspect=2) # Swarm Plot\n",
        "sns.catplot(x=\"category_id\", y=\"views\", kind=\"swarm\",hue=\"ratings_disabled\", data=df_swarm, height=4, aspect=2) # Recolors to add a new dimension"
      ]
    },
    {
      "cell_type": "markdown",
      "metadata": {
        "id": "drwHgi1IUrlY"
      },
      "source": [
        "### Categorical distribution plots\n",
        "\n",
        "* `boxplot()`\n",
        "* `violinplot()`\n",
        "* `boxenplot()`"
      ]
    },
    {
      "cell_type": "code",
      "execution_count": null,
      "metadata": {
        "id": "AAMGxB8GUrlY"
      },
      "outputs": [],
      "source": [
        "df_cat = cats[:700]\n",
        "df_cat = df_cat[df_cat[\"comments_disabled\"]==False]\n",
        "\n",
        "df_cat.head(5)"
      ]
    },
    {
      "cell_type": "code",
      "execution_count": null,
      "metadata": {
        "id": "roKpctF7Urla",
        "collapsed": true
      },
      "outputs": [],
      "source": [
        "sns.catplot(x=\"category_id\", y=\"likes\", kind=\"box\", data=df_cat)\n",
        "sns.stripplot(x=\"category_id\", y=\"likes\", data=df_cat, alpha=0.2,jitter=0.1,color='k')\n"
      ]
    },
    {
      "cell_type": "code",
      "execution_count": null,
      "metadata": {
        "id": "0Iuz8IqNUrlb"
      },
      "outputs": [],
      "source": [
        "sns.violinplot(x=\"likes\", palette=\"muted\", data=df_cat)\n",
        "sns.catplot(x=\"likes\", palette=\"muted\", kind=\"violin\", data=df_cat)\n",
        "# sns.catplot(x=\"likes\", y=\"category_id\",  kind=\"violin\",  split=True, inner=\"stick\", data=df_cat)"
      ]
    },
    {
      "cell_type": "markdown",
      "metadata": {
        "id": "lYGtsk0pUrlc"
      },
      "source": [
        "## Categorical estimate Plots\n",
        "* `pointplot()`\n",
        "* `barplot()`\n",
        "* `countplot()`\n",
        "\n",
        "A bar plot represents an estimate of data tendency.\n",
        "The height of each rectangle represents the central tendency for a numeric variable.\n",
        "The black bar on top provides some indication of the uncertainty around that estimate using error bars.\n",
        "\n",
        "barplots and countplots are simpler ways of implementing the same functions as a bar catplot, \n",
        "what you need (control vs simlicity) determines which one you pick."
      ]
    },
    {
      "cell_type": "code",
      "execution_count": null,
      "metadata": {
        "id": "75eDfVePUrlc"
      },
      "outputs": [],
      "source": [
        "# sns.catplot(x=\"category_id\", kind=\"swarm\", palette=\"ch:.25\", data=cats, height=4, aspect=2) #hue=\"\","
      ]
    },
    {
      "cell_type": "code",
      "execution_count": null,
      "metadata": {
        "id": "37UoaP4YUrlc"
      },
      "outputs": [],
      "source": [
        "sns.barplot(x=\"category_id\", y=\"views\", order=[\"10\",\"17\",\"24\", \"28\"], data=cats, palette=\"Blues\")\n",
        "sns.catplot(x=\"category_id\", y=\"views\", kind=\"bar\", data=cats, height=4, aspect=1.6, palette=\"Blues\")\n",
        "\n",
        "# by default these black lines represent our confidence interfval, which we can remove with \"ci=None\".\n",
        "# the default uses the standard deviation"
      ]
    },
    {
      "cell_type": "markdown",
      "metadata": {
        "id": "CAtd9NcnUrld"
      },
      "source": [
        "## Regressions"
      ]
    },
    {
      "cell_type": "markdown",
      "metadata": {
        "id": "d1vx8TavUrle"
      },
      "source": [
        "Two main functions in seaborn to visualize a linear relationship as determined through regression are regplot() and lmplot(). They share much of  core functionality: both plots draw a scatterplot of two variables, x and y, and then fit the regression model y ~ x and plot the resulting regression line and a 95% confidence interval for that regression.\n",
        "\n",
        "Differences: \n",
        "1. regplot() accepts the x and y variables in a variety of formats, lmplot() has data as a required parameter and the x and y variables must be specified as strings\n",
        "2. While regplot() always shows a single relationship, lmplot() combines regplot() with FacetGrid to show a linear regression on “faceted” plots that allow you to explore interactions with up to three additional categorical variables."
      ]
    },
    {
      "cell_type": "code",
      "execution_count": null,
      "metadata": {
        "id": "cXh5E1BVUrlf"
      },
      "outputs": [],
      "source": [
        "sns.regplot(x=\"views\", y=\"likes\", data=cats, scatter_kws={'alpha':0.3})\n",
        "sns.lmplot(x=\"views\", y=\"likes\", hue=\"category_id\", data=cats)"
      ]
    },
    {
      "cell_type": "markdown",
      "metadata": {
        "id": "unpvxDdpUrlf"
      },
      "source": [
        "Other than the shape of our charts `sns.regplot()` and `sns.lmplot()` create some similar linear regressions. Thats normal as `sns.regplot()` combines `sns.regplot()` with a `FacetGrid`. This basically means with `sns.lmplot()` we can explore relationships between more than two variables."
      ]
    },
    {
      "cell_type": "markdown",
      "metadata": {
        "id": "3yAhqo24Urlf"
      },
      "source": [
        "And exploring different variables through subplots."
      ]
    },
    {
      "cell_type": "code",
      "execution_count": null,
      "metadata": {
        "id": "VduPZZiwUrlf"
      },
      "outputs": [],
      "source": [
        "sns.lmplot(x=\"views\", y=\"dislikes\", data=cats, hue=\"category_id\", row=\"category_id\",col=\"comments_disabled\", scatter_kws={'alpha':0.3}, height=4, aspect=1.5)"
      ]
    },
    {
      "cell_type": "code",
      "execution_count": null,
      "metadata": {
        "id": "wN7a-voeUrlf"
      },
      "outputs": [],
      "source": [
        "\n",
        "sns.jointplot(x=\"views\", y=\"likes\", data=cats, kind=\"reg\", height=10, ratio=3) #kind: 'scatter', 'reg', 'resid', 'kde', or 'hex'"
      ]
    },
    {
      "cell_type": "markdown",
      "metadata": {
        "id": "jKYkcvlkUrlg"
      },
      "source": [
        "\n",
        "Sometimes we have data where a linear regression doesnt quite make sense though:\n",
        "\n",
        "### Nonlinear Regressions"
      ]
    },
    {
      "cell_type": "code",
      "execution_count": null,
      "metadata": {
        "id": "aYAWu9D9Urlg"
      },
      "outputs": [],
      "source": [
        "# anscombe = sns.load_dataset(\"anscombe\")\n",
        "# sns.lmplot(x=\"x\", y=\"y\", data=anscombe.query(\"dataset == 'II'\"), order=2)\n",
        "sns.lmplot(x=\"views\", y=\"comment_count\", data=cats, x_estimator=np.mean, logx=True)"
      ]
    },
    {
      "cell_type": "markdown",
      "metadata": {
        "id": "pi3T2dhVUrlg"
      },
      "source": [
        "This concludes the lesson\n",
        "\n",
        "        In this we went through\n",
        "            The basics of filtering in Pandas\n",
        "            Syntax for numpy and pandas\n",
        "            Advanced dataframe creation techniques\n",
        "            Beautiful vizualizations using Seaborn\n",
        "            Computing Statistics in Pandas"
      ]
    },
    {
      "cell_type": "markdown",
      "metadata": {
        "id": "qo-p4fHvUrlg"
      },
      "source": [
        "https://seaborn.pydata.org/api.html"
      ]
    },
    {
      "cell_type": "code",
      "execution_count": null,
      "metadata": {
        "id": "GXjeJCOzUrli"
      },
      "outputs": [],
      "source": [
        ""
      ]
    }
  ],
  "metadata": {
    "colab": {
      "name": "Python_for_data_science-Youtube-Data.ipynb",
      "provenance": [],
      "collapsed_sections": [],
      "include_colab_link": true
    },
    "kernelspec": {
      "display_name": "Python 3",
      "language": "python",
      "name": "python3"
    },
    "language_info": {
      "codemirror_mode": {
        "name": "ipython",
        "version": 3
      },
      "file_extension": ".py",
      "mimetype": "text/x-python",
      "name": "python",
      "nbconvert_exporter": "python",
      "pygments_lexer": "ipython3",
      "version": "3.7.9"
    }
  },
  "nbformat": 4,
  "nbformat_minor": 0
}